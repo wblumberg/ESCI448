{
 "cells": [
  {
   "cell_type": "code",
   "execution_count": null,
   "id": "9dcf4f82-50e7-48a2-b30c-a9d314e21967",
   "metadata": {},
   "outputs": [],
   "source": [
    "%matplotlib inline\n",
    "import matplotlib.pyplot as plt\n",
    "import pandas as pd\n",
    "import kite_tools as kt\n",
    "import glob"
   ]
  },
  {
   "cell_type": "code",
   "execution_count": null,
   "id": "35217ebb-b73e-4e46-a64f-b554e354192c",
   "metadata": {},
   "outputs": [],
   "source": [
    "dataset = \"/share/data/ESCI448/kites/mutraining_20230210/WEATHER_-_Blue_Feb_10_2023_10_54_32.csv\"\n",
    "data = kt.read_kestrel(dataset)"
   ]
  },
  {
   "cell_type": "code",
   "execution_count": null,
   "id": "598817c3-a13c-48b5-9e95-15beb5d1b8c5",
   "metadata": {},
   "outputs": [],
   "source": []
  }
 ],
 "metadata": {
  "kernelspec": {
   "display_name": "Python 3 (ipykernel)",
   "language": "python",
   "name": "python3"
  },
  "language_info": {
   "codemirror_mode": {
    "name": "ipython",
    "version": 3
   },
   "file_extension": ".py",
   "mimetype": "text/x-python",
   "name": "python",
   "nbconvert_exporter": "python",
   "pygments_lexer": "ipython3",
   "version": "3.10.8"
  }
 },
 "nbformat": 4,
 "nbformat_minor": 5
}
